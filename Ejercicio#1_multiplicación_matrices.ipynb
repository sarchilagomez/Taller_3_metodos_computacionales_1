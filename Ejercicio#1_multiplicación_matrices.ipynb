{
 "cells": [
  {
   "cell_type": "markdown",
   "metadata": {},
   "source": [
    "Complementaria métodos computacionales\n",
    "\n",
    "Catalina Fuentes y Silvana Archila\n",
    "\n",
    "\n",
    "Taller #3\n",
    "\n",
    "Ejercicio 1: Multiplicación de matrices"
   ]
  },
  {
   "cell_type": "code",
   "execution_count": 27,
   "metadata": {},
   "outputs": [],
   "source": [
    "import numpy as np \n",
    "import sympy as sym"
   ]
  },
  {
   "cell_type": "code",
   "execution_count": 28,
   "metadata": {},
   "outputs": [],
   "source": [
    "#Creando algoritmo que multiplica matrices\n",
    "def multiplicar_matrices(matrizA, matrizB):\n",
    "\n",
    "    #Alerta si las matrices no se pueden multiplicar \n",
    "    if matrizA.shape[1] != matrizB.shape[0]:\n",
    "        x = str(\"Las dimensiones de las matrices no permiten la multiplicación.\")\n",
    "        compatibles = 0\n",
    "        return x\n",
    "\n",
    "    compatibles = 1\n",
    "    \n",
    "    #Creando matriz de ceros con las dimensiones adecuadas\n",
    "    filas_multip = matrizA.shape[0]\n",
    "    colum_multip = matrizB.shape[1]\n",
    "    multiplicacion = np.zeros((filas_multip, colum_multip))\n",
    "\n",
    "    #Realizando la multiplicación de las matrices\n",
    "    if compatibles != 0:\n",
    "        for i in range(filas_multip):\n",
    "            for j in range(colum_multip):\n",
    "                for k in range(matrizB.shape[0]):\n",
    "                    multiplicacion[i][j] += matrizA[i][k] * matrizB[k][j]\n",
    "\n",
    "        return multiplicacion"
   ]
  },
  {
   "cell_type": "markdown",
   "metadata": {},
   "source": [
    "Hallando resultados de las operaciones dadas"
   ]
  },
  {
   "cell_type": "code",
   "execution_count": 29,
   "metadata": {},
   "outputs": [
    {
     "name": "stdout",
     "output_type": "stream",
     "text": [
      "La multiplicación de las 2 matrices dadas tiene como resultado:\n",
      "[[ 39.]\n",
      " [ 23.]\n",
      " [ 12.]\n",
      " [-42.]\n",
      " [ 32.]]\n"
     ]
    }
   ],
   "source": [
    "#A\n",
    "matrizA = np.array([[5,-4,-2], [5,-5,4], [2,5,-4], [-5,4,3], [3,-4,-3]])\n",
    "matrizB = np.array([[5], [-2], [-3]])\n",
    "\n",
    "multiplicacion = multiplicar_matrices(matrizA,matrizB)\n",
    "\n",
    "print(\"La multiplicación de las 2 matrices dadas tiene como resultado:\" )\n",
    "print(multiplicacion)"
   ]
  },
  {
   "cell_type": "code",
   "execution_count": 30,
   "metadata": {},
   "outputs": [
    {
     "name": "stdout",
     "output_type": "stream",
     "text": [
      "Las dimensiones de las matrices no permiten la multiplicación.\n"
     ]
    }
   ],
   "source": [
    "#B\n",
    "matrizA = np.array([[0,-1,-1,3], [5,-5,-2,2], [1,0,4,5]])\n",
    "matrizB = np.array([[0,-3], [-2,-1], [3,-3]])\n",
    "\n",
    "multiplicacion = multiplicar_matrices(matrizA,matrizB)\n",
    "\n",
    "print(multiplicacion)"
   ]
  },
  {
   "cell_type": "code",
   "execution_count": 31,
   "metadata": {},
   "outputs": [
    {
     "name": "stdout",
     "output_type": "stream",
     "text": [
      "La multiplicación de las 2 matrices dadas tiene como resultado:\n",
      "[[ 12.  27. -13.  25. -37.]\n",
      " [  2.  51. -39. -46. -23.]\n",
      " [ 27.  -1. -19.  16. -20.]\n",
      " [ 13.  25. -91.  -1. -56.]]\n"
     ]
    }
   ],
   "source": [
    "#C\n",
    "matrizA = np.array([[2,-5,5,1], [5,2,-7,-6], [-6,-1,7,-4], [5,4,1,-5]])\n",
    "matrizB = np.array([[0,4,-7,1,-6], [-1,-6,-5,1,1], [2,-1,-6,5,-5], [-3,-6,6,3,5]])\n",
    "\n",
    "multiplicacion = multiplicar_matrices(matrizA,matrizB)\n",
    "\n",
    "print(\"La multiplicación de las 2 matrices dadas tiene como resultado:\" )\n",
    "print(multiplicacion)\n"
   ]
  },
  {
   "cell_type": "markdown",
   "metadata": {},
   "source": [
    "Utilizando dos matrices cuadradas, demostrar que la multiplicación no es conmutativa."
   ]
  },
  {
   "cell_type": "code",
   "execution_count": 32,
   "metadata": {},
   "outputs": [],
   "source": [
    "#Matrices cuadradas que utilizaremos\n",
    "matrizA = np.array([[1,2,3], [9,8,7], [4,5,6]])\n",
    "matrizB = np.array([[-1,3,2], [-4,-2,5], [0,5,3]])\n"
   ]
  },
  {
   "cell_type": "code",
   "execution_count": 33,
   "metadata": {},
   "outputs": [
    {
     "name": "stdout",
     "output_type": "stream",
     "text": [
      "La multiplicación de AxB tiene como resultado:\n",
      "[[ -9.  14.  21.]\n",
      " [-41.  46.  79.]\n",
      " [-24.  32.  51.]]\n"
     ]
    }
   ],
   "source": [
    "#Realizando AxB\n",
    "multiplicacion = multiplicar_matrices(matrizA,matrizB)\n",
    "\n",
    "print(\"La multiplicación de AxB tiene como resultado:\" )\n",
    "print(multiplicacion)"
   ]
  },
  {
   "cell_type": "code",
   "execution_count": 34,
   "metadata": {},
   "outputs": [
    {
     "name": "stdout",
     "output_type": "stream",
     "text": [
      "La multiplicación de BxA tiene como resultado:\n",
      "[[34. 32. 30.]\n",
      " [-2.  1.  4.]\n",
      " [57. 55. 53.]]\n"
     ]
    }
   ],
   "source": [
    "#Realizando BxA\n",
    "multiplicacion = multiplicar_matrices(matrizB,matrizA)\n",
    "\n",
    "print(\"La multiplicación de BxA tiene como resultado:\" )\n",
    "print(multiplicacion)"
   ]
  },
  {
   "cell_type": "markdown",
   "metadata": {},
   "source": [
    "Así, observamos que AxB tiene un resultado distinto a BxA, lo cual demuestra que la multiplicación de matrices no es conmutativa"
   ]
  }
 ],
 "metadata": {
  "kernelspec": {
   "display_name": "Python 3",
   "language": "python",
   "name": "python3"
  },
  "language_info": {
   "codemirror_mode": {
    "name": "ipython",
    "version": 3
   },
   "file_extension": ".py",
   "mimetype": "text/x-python",
   "name": "python",
   "nbconvert_exporter": "python",
   "pygments_lexer": "ipython3",
   "version": "3.11.4"
  },
  "orig_nbformat": 4
 },
 "nbformat": 4,
 "nbformat_minor": 2
}
