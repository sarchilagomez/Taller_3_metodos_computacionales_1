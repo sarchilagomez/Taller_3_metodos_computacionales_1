{
 "cells": [
  {
   "cell_type": "code",
   "execution_count": 66,
   "metadata": {},
   "outputs": [],
   "source": [
    "import numpy as np"
   ]
  },
  {
   "cell_type": "code",
   "execution_count": 67,
   "metadata": {},
   "outputs": [],
   "source": [
    "def back_substitution(A, b):\n",
    "    '''\n",
    "    Args:\n",
    "        A (np.array): Matriz de coeficientes triangular superior\n",
    "        b (np.arra): vector de constantes\n",
    "        \n",
    "    '''\n",
    "\n",
    "    n = np.shape(A)[0]\n",
    "\n",
    "    x = np.zeros(n)\n",
    "\n",
    "    for i in range(n-1,-1,-1):\n",
    "        sum = b[i]\n",
    "        for j in range(n-1,i,-1):\n",
    "            sum -= A[i,j]*x[j]\n",
    "        x[i] = sum/A[i,i]\n",
    "\n",
    "    return x"
   ]
  },
  {
   "cell_type": "code",
   "execution_count": 68,
   "metadata": {},
   "outputs": [],
   "source": [
    "def gaussian_elimination(A: np.array,b: np.array):\n",
    "    '''\n",
    "    Args:\n",
    "        A (np.array): Matriz de coeficientes cuadrada (n x n).\n",
    "        b (np.array): Vector de constantes de longitud n\n",
    "\n",
    "    Returns:\n",
    "        M (np.array): Matriz aumentada [A|b] reducida utilizando el algoritmo de eliminación Gaussiana\n",
    "    '''\n",
    "    M = A.copy()\n",
    "    for i in range(np.shape(A)[0]):\n",
    "        for j in range(np.shape(A)[1]):\n",
    "            if i > j:\n",
    "                pivote = M[j, j]\n",
    "                fila_pivote = j\n",
    "                coeficiente = -(M[i,j])/(pivote)\n",
    "                b[i] = b[i] + b[fila_pivote]*coeficiente\n",
    "                for m in range(np.shape(A)[1]):\n",
    "                    M[i, m] = M[i, m] + M[fila_pivote, m]*coeficiente\n",
    "                    \n",
    "    return M, b"
   ]
  },
  {
   "cell_type": "markdown",
   "metadata": {},
   "source": [
    "a). Forces on a beam"
   ]
  },
  {
   "cell_type": "code",
   "execution_count": 69,
   "metadata": {},
   "outputs": [],
   "source": [
    "A = np.array([[3., 1., -1.],\n",
    "             [1., -2., 1.],\n",
    "             [4., -1., 1.]])\n",
    "b = np.array([2., 0., 3.])"
   ]
  },
  {
   "cell_type": "code",
   "execution_count": 70,
   "metadata": {},
   "outputs": [],
   "source": [
    "A, b = gaussian_elimination(A, b)"
   ]
  },
  {
   "cell_type": "code",
   "execution_count": 71,
   "metadata": {},
   "outputs": [],
   "source": [
    "respuesta = back_substitution(A, b)"
   ]
  },
  {
   "cell_type": "code",
   "execution_count": 72,
   "metadata": {},
   "outputs": [
    {
     "name": "stdout",
     "output_type": "stream",
     "text": [
      "Las tres fuerzas son: F1 = 0.7142857142857143, F2 = 0.8571428571428571, F3 = 1.0\n"
     ]
    }
   ],
   "source": [
    "print(f\"Las tres fuerzas son: F1 = {respuesta[0]}, F2 = {respuesta[1]}, F3 = {respuesta[2]}\")"
   ]
  },
  {
   "cell_type": "markdown",
   "metadata": {},
   "source": [
    "b). Current flow"
   ]
  },
  {
   "cell_type": "code",
   "execution_count": 73,
   "metadata": {},
   "outputs": [],
   "source": [
    "A = np.array([[1., 1., 1.],\n",
    "             [0., -8., 10.],\n",
    "             [4., -8., 0.]])\n",
    "b = np.array([0., 0., 6.])"
   ]
  },
  {
   "cell_type": "code",
   "execution_count": 74,
   "metadata": {},
   "outputs": [],
   "source": [
    "A, b = gaussian_elimination(A, b)"
   ]
  },
  {
   "cell_type": "code",
   "execution_count": 75,
   "metadata": {},
   "outputs": [],
   "source": [
    "respuesta = back_substitution(A, b)"
   ]
  },
  {
   "cell_type": "code",
   "execution_count": 76,
   "metadata": {},
   "outputs": [
    {
     "name": "stdout",
     "output_type": "stream",
     "text": [
      "La corriente en A es IA = 0.7105263157894737, La corriente en B es IB = -0.39473684210526316, La corriente en C es IC = -0.3157894736842105\n"
     ]
    }
   ],
   "source": [
    "print(f\"La corriente en A es IA = {respuesta[0]}, La corriente en B es IB = {respuesta[1]}, La corriente en C es IC = {respuesta[2]}\")"
   ]
  }
 ],
 "metadata": {
  "kernelspec": {
   "display_name": "Python 3",
   "language": "python",
   "name": "python3"
  },
  "language_info": {
   "codemirror_mode": {
    "name": "ipython",
    "version": 3
   },
   "file_extension": ".py",
   "mimetype": "text/x-python",
   "name": "python",
   "nbconvert_exporter": "python",
   "pygments_lexer": "ipython3",
   "version": "3.11.4"
  }
 },
 "nbformat": 4,
 "nbformat_minor": 2
}
