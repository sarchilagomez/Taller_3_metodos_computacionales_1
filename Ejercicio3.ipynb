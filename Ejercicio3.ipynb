{
 "cells": [
  {
   "cell_type": "code",
   "execution_count": 1,
   "metadata": {},
   "outputs": [],
   "source": [
    "import numpy as np"
   ]
  },
  {
   "cell_type": "code",
   "execution_count": 2,
   "metadata": {},
   "outputs": [],
   "source": [
    "def MetodoDeLaPotencia_ValorPopioMasGrande(M, vector_inicial, iteraciones):\n",
    "    actual = vector_inicial\n",
    "    actual = actual/(np.sqrt(np.dot(actual, actual)))\n",
    "    for i in range(iteraciones):\n",
    "        actual = np.matmul(M, actual)\n",
    "        actual = actual/(np.sqrt(np.dot(actual, actual)))\n",
    "    valor_propio = np.matmul(actual.T, M)\n",
    "    valor_propio = np.matmul(valor_propio, actual.T)\n",
    "    return valor_propio, actual"
   ]
  },
  {
   "cell_type": "code",
   "execution_count": 3,
   "metadata": {},
   "outputs": [],
   "source": [
    "A = np.array([[-2, 1, 0],\n",
    "              [1, -2, 1],\n",
    "              [0, 1, -2]])\n",
    "vector_inicial = np.array([1, 1, 1])\n",
    "iteraciones = 10"
   ]
  },
  {
   "cell_type": "code",
   "execution_count": 4,
   "metadata": {},
   "outputs": [],
   "source": [
    "frecuencia_maxima, amplitud_maxima = MetodoDeLaPotencia_ValorPopioMasGrande(A, vector_inicial, iteraciones)\n",
    "frecuencia_maxima = (-frecuencia_maxima)**(1/2)"
   ]
  },
  {
   "cell_type": "code",
   "execution_count": 5,
   "metadata": {},
   "outputs": [],
   "source": [
    "A_inv = np.linalg.inv(A)\n",
    "frecuencia_minima, amplitud_minima = MetodoDeLaPotencia_ValorPopioMasGrande(A_inv, vector_inicial, iteraciones)\n",
    "frecuencia_minima = 1/frecuencia_minima\n",
    "frecuencia_minima = (-frecuencia_minima)**(1/2)"
   ]
  },
  {
   "cell_type": "code",
   "execution_count": 6,
   "metadata": {},
   "outputs": [
    {
     "name": "stdout",
     "output_type": "stream",
     "text": [
      "La frecuencia máxima es 1.8477590650225608 y su amplitud es [ 0.50000006 -0.70710669  0.50000006]\n",
      "La frecuencia mínima es 0.7653668647301797 y su amplitud es [0.5        0.70710678 0.5       ]\n"
     ]
    }
   ],
   "source": [
    "print(f\"La frecuencia máxima es {frecuencia_maxima} y su amplitud es {amplitud_maxima}\")\n",
    "print(f\"La frecuencia mínima es {frecuencia_minima} y su amplitud es {amplitud_minima}\")"
   ]
  }
 ],
 "metadata": {
  "kernelspec": {
   "display_name": "Python 3",
   "language": "python",
   "name": "python3"
  },
  "language_info": {
   "codemirror_mode": {
    "name": "ipython",
    "version": 3
   },
   "file_extension": ".py",
   "mimetype": "text/x-python",
   "name": "python",
   "nbconvert_exporter": "python",
   "pygments_lexer": "ipython3",
   "version": "3.11.4"
  }
 },
 "nbformat": 4,
 "nbformat_minor": 2
}
